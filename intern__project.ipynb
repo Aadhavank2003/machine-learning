{
  "nbformat": 4,
  "nbformat_minor": 0,
  "metadata": {
    "colab": {
      "provenance": []
    },
    "kernelspec": {
      "name": "python3",
      "display_name": "Python 3"
    },
    "language_info": {
      "name": "python"
    }
  },
  "cells": [
    {
      "cell_type": "markdown",
      "source": [
        "# **Sentiment Analysis of Movie Reviews**\n",
        "\n",
        "# **Objective**\n",
        "Build a machine learning model to predict whether a movie review has a positive or negative sentiment.\n",
        "\n",
        "# **Data Source**\n",
        "We will use the IMDb movie reviews dataset for this project."
      ],
      "metadata": {
        "id": "iPxhy7zK7EwC"
      }
    },
    {
      "cell_type": "markdown",
      "source": [
        "# Import **Library**:"
      ],
      "metadata": {
        "id": "n8FbW_l9C_o_"
      }
    },
    {
      "cell_type": "code",
      "source": [
        "# Libraries for data manipulation\n",
        "import pandas as pd\n",
        "import numpy as np\n",
        "\n",
        "# Libraries for data visualization\n",
        "import matplotlib.pyplot as plt\n",
        "import seaborn as sns\n",
        "\n",
        "# Libraries for Natural Language Processing (NLP)\n",
        "from sklearn.feature_extraction.text import CountVectorizer\n",
        "from sklearn.model_selection import train_test_split\n",
        "\n",
        "# Libraries for modeling\n",
        "from sklearn.naive_bayes import MultinomialNB\n",
        "from sklearn.metrics import accuracy_score, confusion_matrix, classification_report\n",
        "\n",
        "# Text processing\n",
        "import re\n",
        "from nltk.corpus import stopwords\n",
        "from nltk.stem.porter import PorterStemmer\n",
        "import nltk\n",
        "nltk.download('stopwords')\n"
      ],
      "metadata": {
        "colab": {
          "base_uri": "https://localhost:8080/"
        },
        "id": "98Z7X8_UC9k1",
        "outputId": "4d912069-2c6d-4f57-9322-ab43b5b13c7a"
      },
      "execution_count": 7,
      "outputs": [
        {
          "output_type": "stream",
          "name": "stderr",
          "text": [
            "[nltk_data] Downloading package stopwords to /root/nltk_data...\n",
            "[nltk_data]   Package stopwords is already up-to-date!\n"
          ]
        },
        {
          "output_type": "execute_result",
          "data": {
            "text/plain": [
              "True"
            ]
          },
          "metadata": {},
          "execution_count": 7
        }
      ]
    },
    {
      "cell_type": "markdown",
      "source": [
        "# **Import Data**"
      ],
      "metadata": {
        "id": "wux5c2SaDa_e"
      }
    },
    {
      "cell_type": "code",
      "source": [
        "# Load the dataset\n",
        "df = pd.read_csv('/content/new1.csv')  # Assuming the dataset is in CSV format\n"
      ],
      "metadata": {
        "id": "feFXq7I9DlnQ"
      },
      "execution_count": 8,
      "outputs": []
    },
    {
      "cell_type": "markdown",
      "source": [
        "# **Describe Data**"
      ],
      "metadata": {
        "id": "36b6I_ANGxKK"
      }
    },
    {
      "cell_type": "code",
      "source": [
        "# First 5 rows of the dataset\n",
        "print(df.head())\n",
        "\n",
        "# Data summary\n",
        "print(df.info())\n",
        "\n",
        "# Checking for missing values\n",
        "print(df.isnull().sum())\n"
      ],
      "metadata": {
        "colab": {
          "base_uri": "https://localhost:8080/"
        },
        "id": "uvalUFgOG59c",
        "outputId": "0c72bca9-8382-4d95-dc24-4d0f42c7bae6"
      },
      "execution_count": 9,
      "outputs": [
        {
          "output_type": "stream",
          "name": "stdout",
          "text": [
            "                                              Review Sentiment\n",
            "0  One of the other reviewers has mentioned that ...  positive\n",
            "1  A wonderful little production. <br /><br />The...  positive\n",
            "2  I thought this was a wonderful way to spend ti...  positive\n",
            "3  Basically there's a family where a little boy ...  negative\n",
            "4  Petter Mattei's \"Love in the Time of Money\" is...  positive\n",
            "<class 'pandas.core.frame.DataFrame'>\n",
            "RangeIndex: 299 entries, 0 to 298\n",
            "Data columns (total 2 columns):\n",
            " #   Column     Non-Null Count  Dtype \n",
            "---  ------     --------------  ----- \n",
            " 0   Review     299 non-null    object\n",
            " 1   Sentiment  299 non-null    object\n",
            "dtypes: object(2)\n",
            "memory usage: 4.8+ KB\n",
            "None\n",
            "Review       0\n",
            "Sentiment    0\n",
            "dtype: int64\n"
          ]
        }
      ]
    },
    {
      "cell_type": "markdown",
      "source": [
        "# **Data Visualization**"
      ],
      "metadata": {
        "id": "CSYFEGh4HCq0"
      }
    },
    {
      "cell_type": "code",
      "source": [
        "# Count of positive and negative reviews\n",
        "sns.countplot(df['Sentiment'])\n",
        "plt.title('Sentiment Distribution')\n",
        "plt.show()\n",
        "\n",
        "# Word count distribution in reviews\n",
        "df['review_length'] = df['Review'].apply(lambda x: len(x.split()))\n",
        "sns.histplot(df['review_length'], kde=True)\n",
        "plt.title('Review Length Distribution')\n",
        "plt.show()\n"
      ],
      "metadata": {
        "colab": {
          "base_uri": "https://localhost:8080/",
          "height": 927
        },
        "id": "w8QFptdsHJH7",
        "outputId": "c5b3d482-83d9-4f6f-a2b1-84d6e57530a1"
      },
      "execution_count": 10,
      "outputs": [
        {
          "output_type": "display_data",
          "data": {
            "text/plain": [
              "<Figure size 640x480 with 1 Axes>"
            ],
            "image/png": "[encoded data removed]"
          },
          "metadata": {}
        },
        {
          "output_type": "display_data",
          "data": {
            "text/plain": [
              "<Figure size 640x480 with 1 Axes>"
            ],
            "image/png": "[encoded data removed]"
          },
          "metadata": {}
        }
      ]
    },
    {
      "cell_type": "markdown",
      "source": [
        "# **Data Preprocessing**"
      ],
      "metadata": {
        "id": "su5d_HHWLGgf"
      }
    },
    {
      "cell_type": "code",
      "source": [
        "# Cleaning and preprocessing text data\n",
        "def clean_text(text):\n",
        "    # Remove non-alphabet characters\n",
        "    text = re.sub('[^a-zA-Z]', ' ', text)\n",
        "    # Convert text to lowercase\n",
        "    text = text.lower()\n",
        "    # Tokenize and remove stopwords\n",
        "    text = text.split()\n",
        "    ps = PorterStemmer()\n",
        "    text = [ps.stem(word) for word in text if not word in stopwords.words('english')]\n",
        "    # Join words back to a single string\n",
        "    return ' '.join(text)\n",
        "\n",
        "# Apply cleaning function to reviews\n",
        "df['cleaned_review'] = df['Review'].apply(clean_text)\n",
        "\n",
        "# Visualizing cleaned data\n",
        "print(df[['Review', 'cleaned_review']].head())\n"
      ],
      "metadata": {
        "colab": {
          "base_uri": "https://localhost:8080/"
        },
        "id": "3lwtZWRILTFp",
        "outputId": "38c7a753-8e57-4f60-f799-2ffa000aa7df"
      },
      "execution_count": 11,
      "outputs": [
        {
          "output_type": "stream",
          "name": "stdout",
          "text": [
            "                                              Review  \\\n",
            "0  One of the other reviewers has mentioned that ...   \n",
            "1  A wonderful little production. <br /><br />The...   \n",
            "2  I thought this was a wonderful way to spend ti...   \n",
            "3  Basically there's a family where a little boy ...   \n",
            "4  Petter Mattei's \"Love in the Time of Money\" is...   \n",
            "\n",
            "                                      cleaned_review  \n",
            "0  one review mention watch oz episod hook right ...  \n",
            "1  wonder littl product br br film techniqu unass...  \n",
            "2  thought wonder way spend time hot summer weeke...  \n",
            "3  basic famili littl boy jake think zombi closet...  \n",
            "4  petter mattei love time money visual stun film...  \n"
          ]
        }
      ]
    },
    {
      "cell_type": "markdown",
      "source": [
        "# **Define Target Variable (y) and Feature Variables (X)**"
      ],
      "metadata": {
        "id": "Iq-OriqYQeK8"
      }
    },
    {
      "cell_type": "code",
      "source": [
        "# Define feature (X) and target (y)\n",
        "X = df['cleaned_review']  # Feature: Cleaned reviews\n",
        "y = df['Sentiment'].map({'positive': 1, 'negative': 0})  # Convert sentiment labels to binary\n"
      ],
      "metadata": {
        "id": "1dqk2_8BQl95"
      },
      "execution_count": 13,
      "outputs": []
    },
    {
      "cell_type": "markdown",
      "source": [
        "# **Train Test Split**"
      ],
      "metadata": {
        "id": "JfFJTer6Qsp-"
      }
    },
    {
      "cell_type": "code",
      "source": [
        "# Splitting the data into training and testing sets\n",
        "X_train, X_test, y_train, y_test = train_test_split(X, y, test_size=0.2, random_state=42)\n",
        "\n",
        "# Vectorizing text data (Converting text into numerical representation)\n",
        "vectorizer = CountVectorizer(max_features=5000)\n",
        "X_train_vec = vectorizer.fit_transform(X_train).toarray()\n",
        "X_test_vec = vectorizer.transform(X_test).toarray()\n"
      ],
      "metadata": {
        "id": "dGGZRqjlQwtn"
      },
      "execution_count": 14,
      "outputs": []
    },
    {
      "cell_type": "markdown",
      "source": [
        "# **Modeling**"
      ],
      "metadata": {
        "id": "CTRyuUvhQ0A4"
      }
    },
    {
      "cell_type": "code",
      "source": [
        "# Building a Naive Bayes model\n",
        "model = MultinomialNB()\n",
        "model.fit(X_train_vec, y_train)\n"
      ],
      "metadata": {
        "colab": {
          "base_uri": "https://localhost:8080/",
          "height": 74
        },
        "id": "fNSu2e0rQ5Cv",
        "outputId": "f40c57ea-6fa9-43a6-de3b-4b76ccf8a1dc"
      },
      "execution_count": 15,
      "outputs": [
        {
          "output_type": "execute_result",
          "data": {
            "text/plain": [
              "MultinomialNB()"
            ],
            "text/html": [
              "<style>#sk-container-id-1 {color: black;}#sk-container-id-1 pre{padding: 0;}#sk-container-id-1 div.sk-toggleable {background-color: white;}#sk-container-id-1 label.sk-toggleable__label {cursor: pointer;display: block;width: 100%;margin-bottom: 0;padding: 0.3em;box-sizing: border-box;text-align: center;}#sk-container-id-1 label.sk-toggleable__label-arrow:before {content: \"▸\";float: left;margin-right: 0.25em;color: #696969;}#sk-container-id-1 label.sk-toggleable__label-arrow:hover:before {color: black;}#sk-container-id-1 div.sk-estimator:hover label.sk-toggleable__label-arrow:before {color: black;}#sk-container-id-1 div.sk-toggleable__content {max-height: 0;max-width: 0;overflow: hidden;text-align: left;background-color: #f0f8ff;}#sk-container-id-1 div.sk-toggleable__content pre {margin: 0.2em;color: black;border-radius: 0.25em;background-color: #f0f8ff;}#sk-container-id-1 input.sk-toggleable__control:checked~div.sk-toggleable__content {max-height: 200px;max-width: 100%;overflow: auto;}#sk-container-id-1 input.sk-toggleable__control:checked~label.sk-toggleable__label-arrow:before {content: \"▾\";}#sk-container-id-1 div.sk-estimator input.sk-toggleable__control:checked~label.sk-toggleable__label {background-color: #d4ebff;}#sk-container-id-1 div.sk-label input.sk-toggleable__control:checked~label.sk-toggleable__label {background-color: #d4ebff;}#sk-container-id-1 input.sk-hidden--visually {border: 0;clip: rect(1px 1px 1px 1px);clip: rect(1px, 1px, 1px, 1px);height: 1px;margin: -1px;overflow: hidden;padding: 0;position: absolute;width: 1px;}#sk-container-id-1 div.sk-estimator {font-family: monospace;background-color: #f0f8ff;border: 1px dotted black;border-radius: 0.25em;box-sizing: border-box;margin-bottom: 0.5em;}#sk-container-id-1 div.sk-estimator:hover {background-color: #d4ebff;}#sk-container-id-1 div.sk-parallel-item::after {content: \"\";width: 100%;border-bottom: 1px solid gray;flex-grow: 1;}#sk-container-id-1 div.sk-label:hover label.sk-toggleable__label {background-color: #d4ebff;}#sk-container-id-1 div.sk-serial::before {content: \"\";position: absolute;border-left: 1px solid gray;box-sizing: border-box;top: 0;bottom: 0;left: 50%;z-index: 0;}#sk-container-id-1 div.sk-serial {display: flex;flex-direction: column;align-items: center;background-color: white;padding-right: 0.2em;padding-left: 0.2em;position: relative;}#sk-container-id-1 div.sk-item {position: relative;z-index: 1;}#sk-container-id-1 div.sk-parallel {display: flex;align-items: stretch;justify-content: center;background-color: white;position: relative;}#sk-container-id-1 div.sk-item::before, #sk-container-id-1 div.sk-parallel-item::before {content: \"\";position: absolute;border-left: 1px solid gray;box-sizing: border-box;top: 0;bottom: 0;left: 50%;z-index: -1;}#sk-container-id-1 div.sk-parallel-item {display: flex;flex-direction: column;z-index: 1;position: relative;background-color: white;}#sk-container-id-1 div.sk-parallel-item:first-child::after {align-self: flex-end;width: 50%;}#sk-container-id-1 div.sk-parallel-item:last-child::after {align-self: flex-start;width: 50%;}#sk-container-id-1 div.sk-parallel-item:only-child::after {width: 0;}#sk-container-id-1 div.sk-dashed-wrapped {border: 1px dashed gray;margin: 0 0.4em 0.5em 0.4em;box-sizing: border-box;padding-bottom: 0.4em;background-color: white;}#sk-container-id-1 div.sk-label label {font-family: monospace;font-weight: bold;display: inline-block;line-height: 1.2em;}#sk-container-id-1 div.sk-label-container {text-align: center;}#sk-container-id-1 div.sk-container {/* jupyter's `normalize.less` sets `[hidden] { display: none; }` but bootstrap.min.css set `[hidden] { display: none !important; }` so we also need the `!important` here to be able to override the default hidden behavior on the sphinx rendered scikit-learn.org. See: https://github.com/scikit-learn/scikit-learn/issues/21755 */display: inline-block !important;position: relative;}#sk-container-id-1 div.sk-text-repr-fallback {display: none;}</style><div id=\"sk-container-id-1\" class=\"sk-top-container\"><div class=\"sk-text-repr-fallback\"><pre>MultinomialNB()</pre><b>In a Jupyter environment, please rerun this cell to show the HTML representation or trust the notebook. <br />On GitHub, the HTML representation is unable to render, please try loading this page with nbviewer.org.</b></div><div class=\"sk-container\" hidden><div class=\"sk-item\"><div class=\"sk-estimator sk-toggleable\"><input class=\"sk-toggleable__control sk-hidden--visually\" id=\"sk-estimator-id-1\" type=\"checkbox\" checked><label for=\"sk-estimator-id-1\" class=\"sk-toggleable__label sk-toggleable__label-arrow\">MultinomialNB</label><div class=\"sk-toggleable__content\"><pre>MultinomialNB()</pre></div></div></div></div></div>"
            ]
          },
          "metadata": {},
          "execution_count": 15
        }
      ]
    },
    {
      "cell_type": "markdown",
      "source": [
        "# **Model Evaluation**"
      ],
      "metadata": {
        "id": "og1rp3sUQ9FH"
      }
    },
    {
      "cell_type": "code",
      "source": [
        "# Predictions on test data\n",
        "y_pred = model.predict(X_test_vec)\n",
        "\n",
        "# Evaluation metrics\n",
        "print(f'Accuracy: {accuracy_score(y_test, y_pred)}')\n",
        "print(f'Confusion Matrix:\\n {confusion_matrix(y_test, y_pred)}')\n",
        "print(f'Classification Report:\\n {classification_report(y_test, y_pred)}')\n"
      ],
      "metadata": {
        "colab": {
          "base_uri": "https://localhost:8080/"
        },
        "id": "vEf2AbtlRCgd",
        "outputId": "af06f313-fbf6-49bf-d771-17f08e074461"
      },
      "execution_count": 16,
      "outputs": [
        {
          "output_type": "stream",
          "name": "stdout",
          "text": [
            "Accuracy: 0.7833333333333333\n",
            "Confusion Matrix:\n",
            " [[28  2]\n",
            " [11 19]]\n",
            "Classification Report:\n",
            "               precision    recall  f1-score   support\n",
            "\n",
            "           0       0.72      0.93      0.81        30\n",
            "           1       0.90      0.63      0.75        30\n",
            "\n",
            "    accuracy                           0.78        60\n",
            "   macro avg       0.81      0.78      0.78        60\n",
            "weighted avg       0.81      0.78      0.78        60\n",
            "\n"
          ]
        }
      ]
    },
    {
      "cell_type": "markdown",
      "source": [
        "# **Prediction**"
      ],
      "metadata": {
        "id": "e4842CO1RGp2"
      }
    },
    {
      "cell_type": "code",
      "source": [
        "# Example of a new review\n",
        "new_review = [\"The movie was fantastic! I loved the plot and the acting.\"]\n",
        "new_review_cleaned = vectorizer.transform([clean_text(new_review[0])]).toarray()\n",
        "\n",
        "# Predict sentiment\n",
        "predicted_sentiment = model.predict(new_review_cleaned)\n",
        "print(\"Sentiment Prediction: \", 'Positive' if predicted_sentiment[0] == 1 else 'Negative')\n"
      ],
      "metadata": {
        "colab": {
          "base_uri": "https://localhost:8080/"
        },
        "id": "ShdO7ouXRKn6",
        "outputId": "74cb4506-937a-4b68-d0c7-dda60e30524c"
      },
      "execution_count": 17,
      "outputs": [
        {
          "output_type": "stream",
          "name": "stdout",
          "text": [
            "Sentiment Prediction:  Positive\n"
          ]
        }
      ]
    },
    {
      "cell_type": "markdown",
      "source": [
        "# **Explanation:**\n",
        "**Data Preprocessing:** We cleaned the reviews by removing unwanted characters, tokenizing, stemming, and removing stopwords to prepare the text for modeling.\n",
        "\n",
        "**Vectorization:** We transformed the cleaned reviews into numerical data using the Bag-of-Words model (CountVectorizer).\n",
        "\n",
        "**Model**: We trained a Naive Bayes classifier on the vectorized text data. Naive Bayes is a common choice for text classification tasks due to its simplicity and effectiveness.\n",
        "\n",
        "**Evaluation:** We evaluated the model’s performance using accuracy, confusion matrix, and classification report, which provided detailed insights into the precision and recall of the model.\n",
        "\n",
        "**Prediction**: The model can now predict the sentiment of any new review text.\n"
      ],
      "metadata": {
        "id": "iz-nYKzMRPGE"
      }
    }
  ]
}